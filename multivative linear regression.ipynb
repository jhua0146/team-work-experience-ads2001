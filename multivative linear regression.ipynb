{
 "cells": [
  {
   "cell_type": "code",
   "execution_count": null,
   "id": "eaa169c4",
   "metadata": {},
   "outputs": [],
   "source": [
    " linear = LinearRegression()\n",
    "linear.fit(X_train,Y_train)\n",
    "training_predictions = linear.predict(X_train)\n",
    "testing_predictions = linear.predict(X_test) \n",
    "pd.DataFrame({\n",
    "    \"R^2\": {\n",
    "        \"train\": r2_score(Y_train, training_predictions),\n",
    "        \"test\": r2_score(Y_test, testing_predictions)\n",
    "    },\n",
    "    \"RMSE\": {\n",
    "        \"train\": mean_squared_error(Y_train, training_predictions, squared=False),\n",
    "        \"test\": mean_squared_error(Y_test, testing_predictions, squared=False),\n",
    "    },\n",
    "    \"MAE\": {\n",
    "        \"train\": mean_absolute_error(Y_train, training_predictions),\n",
    "        \"test\": mean_absolute_error(Y_test, testing_predictions),\n",
    "    },\n",
    "})\n",
    "\n",
    "\n"
   ]
  },
  {
   "cell_type": "code",
   "execution_count": null,
   "id": "248043e5",
   "metadata": {},
   "outputs": [],
   "source": [
    "scores = cross_validate(\n",
    "    linear, nX, y,\n",
    "    cv=RepeatedKFold(n_splits=5, n_repeats=5, random_state=np.random.RandomState(RS)),\n",
    "    return_estimator=True,\n",
    ")\n",
    "coefs = pd.DataFrame([est.coef_ for est in scores['estimator']], columns=feature_names)\n",
    "ax = coefs.plot(kind='box',figsize=(30,20))\n",
    "plt.title('Linear Regression')\n",
    "plt.xlabel('features')\n",
    "plt.ylabel('feature coefficients')\n",
    "plt.axhline(y=0, color='.5')\n",
    "plt.subplots_adjust(left=.1)"
   ]
  }
 ],
 "metadata": {
  "kernelspec": {
   "display_name": "Python 3 (ipykernel)",
   "language": "python",
   "name": "python3"
  },
  "language_info": {
   "codemirror_mode": {
    "name": "ipython",
    "version": 3
   },
   "file_extension": ".py",
   "mimetype": "text/x-python",
   "name": "python",
   "nbconvert_exporter": "python",
   "pygments_lexer": "ipython3",
   "version": "3.9.7"
  }
 },
 "nbformat": 4,
 "nbformat_minor": 5
}
