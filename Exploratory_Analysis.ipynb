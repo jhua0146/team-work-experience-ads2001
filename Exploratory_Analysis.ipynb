{
 "cells": [
  {
   "cell_type": "markdown",
   "metadata": {
    "cell_id": "96c63fbf81cb43168078798f99247074",
    "deepnote_cell_type": "text-cell-h1",
    "formattedRanges": [],
    "is_collapsed": false,
    "tags": []
   },
   "source": [
    "# Modelling Design Report Performance based on Nephrotex Virtual Internship Chat Data "
   ]
  },
  {
   "cell_type": "markdown",
   "metadata": {
    "cell_id": "a87b1bbc4cbf4ef0adf694879aa95ca4",
    "deepnote_cell_type": "markdown",
    "deepnote_to_be_reexecuted": false,
    "execution_millis": 2,
    "execution_start": 1679393153085,
    "source_hash": "d90e89f6",
    "tags": []
   },
   "source": [
    "## Background \n",
    "\n",
    "The goal of this project is to model students final design report performance (a final score) based on chat data from their virtual internship at Nephrotex. \n",
    "\n",
    "**[Nephrotex](https://www.virtualinterns.org/nephrotex/)** is a virtual internship in which students play the role of interns in a fictitious biomedical engineering design firm. They are required to design a novel nanotechnology-based membrane that can be used for kidney dialysis. To do this they use internal technical documents, background research, and research reports based on experimental data. The students have to develop and test hypotheses, as well as appeal to company stakeholders who have a stake in the outcome of the devices that they develop. \n",
    "\n",
    "This chat data is collected from the chat features of an online platform that the students have used to complete the virtual internship. This platform is called WorkPro. This allows virtual communication between teammates and the design advisor (mentor). \n",
    "\n",
    "\n",
    "We will be looking to achieve our goal by looking at different variables related to design moves and design justifications, along with how language used in the chat can effect a students final score. We aim to find correlations to determine which 3 factor's can best predict a student's final score (A mark between 0 and 8, where 0 is low quality and 8 is high quality.)"
   ]
  },
  {
   "cell_type": "markdown",
   "metadata": {
    "cell_id": "4e2ca69cb9c247c7977e90c726ce553a",
    "deepnote_cell_type": "text-cell-h3",
    "formattedRanges": []
   },
   "source": [
    "### Description of room names"
   ]
  },
  {
   "cell_type": "markdown",
   "metadata": {
    "cell_id": "572d3bfd-c655-4f0f-a5c9-ff87822e79d4",
    "deepnote_cell_type": "text-cell-p",
    "formattedRanges": [],
    "is_collapsed": false,
    "tags": []
   },
   "source": [
    "Each room name represents the phases of a team's project. A brief description of each of them is given below in the chronological order of the project's workflow."
   ]
  },
  {
   "cell_type": "markdown",
   "metadata": {
    "cell_id": "610ff229-35e6-48ca-9ff1-0a2a99d5c315",
    "deepnote_cell_type": "text-cell-p",
    "formattedRanges": [
     {
      "fromCodePoint": 0,
      "marks": {
       "code": true
      },
      "toCodePoint": 58,
      "type": "marks"
     }
    ],
    "is_collapsed": false,
    "tags": []
   },
   "source": [
    "Introduction and Workflow Tutorial with Entrance Interview: This room serves as an induction for interns and allows both mentors and interns get to know each other"
   ]
  },
  {
   "cell_type": "markdown",
   "metadata": {
    "cell_id": "2ac489af-a63f-4613-a74e-9b07a07660ee",
    "deepnote_cell_type": "text-cell-p",
    "formattedRanges": [
     {
      "fromCodePoint": 0,
      "marks": {
       "code": true
      },
      "toCodePoint": 31,
      "type": "marks"
     },
     {
      "fromCodePoint": 220,
      "ranges": [],
      "toCodePoint": 228,
      "type": "link",
      "url": "https://www.kidney.org/atoz/content/dialysisinfo"
     }
    ],
    "is_collapsed": false,
    "tags": []
   },
   "source": [
    "Background research on dialysis: This room's purpose is for interns to discuss the optimal existing treatments for patients' kidneys so that the team's product can be inspired by these ideas for treating kidney failure. Dialysis describes the treatment used to act as a replacement for a patient's kidneys with regards to functioning, in the event of kidney failure. "
   ]
  },
  {
   "cell_type": "markdown",
   "metadata": {
    "cell_id": "0b0eb850-409b-4c22-b37f-be91c35ef16f",
    "deepnote_cell_type": "text-cell-p",
    "formattedRanges": [
     {
      "fromCodePoint": 0,
      "marks": {
       "code": true
      },
      "toCodePoint": 29,
      "type": "marks"
     }
    ],
    "is_collapsed": false,
    "tags": []
   },
   "source": [
    "Choose consultants to analyze: This room enables interns to discuss which external advisors are the most effective at conveying information about patients' condition with regards to their physiological state, so that their products can best meet patients' needs."
   ]
  },
  {
   "cell_type": "markdown",
   "metadata": {
    "cell_id": "057b0df3-5d65-41dc-8b0f-b247e1a7eae6",
    "deepnote_cell_type": "text-cell-p",
    "formattedRanges": [
     {
      "fromCodePoint": 0,
      "marks": {
       "code": true
      },
      "toCodePoint": 42,
      "type": "marks"
     }
    ],
    "is_collapsed": false,
    "tags": []
   },
   "source": [
    "Summarize internal consultant requirements: This room enables interns to discuss how they can satisfy patients' needs based on the advice they have been given by the consultants they had previously chosen"
   ]
  },
  {
   "cell_type": "markdown",
   "metadata": {
    "cell_id": "913aa056-95aa-4f0f-9706-d6bc7ad3ca2a",
    "deepnote_cell_type": "text-cell-p",
    "formattedRanges": [
     {
      "fromCodePoint": 0,
      "marks": {
       "code": true
      },
      "toCodePoint": 24,
      "type": "marks"
     },
     {
      "fromCodePoint": 97,
      "ranges": [],
      "toCodePoint": 108,
      "type": "link",
      "url": "https://www.ncbi.nlm.nih.gov/pmc/articles/PMC4418337/"
     }
    ],
    "is_collapsed": false,
    "tags": []
   },
   "source": [
    "Graphing Surfactant Data:  This room's purpose is to visualise the effects of different types of surfactants on patients' kidneys. The general role of a surfactant is to reduce the surface tension of blood vessels in the lungs and kidneys so that pathogenic fluids and waste can be removed from the body. "
   ]
  },
  {
   "cell_type": "markdown",
   "metadata": {
    "cell_id": "bbf9be03-99cf-4de8-b2e0-c240c079308e",
    "deepnote_cell_type": "text-cell-p",
    "formattedRanges": [
     {
      "fromCodePoint": 0,
      "marks": {
       "code": true
      },
      "toCodePoint": 41,
      "type": "marks"
     }
    ],
    "is_collapsed": false,
    "tags": []
   },
   "source": [
    "Reflection team discussion of surfactants: This room allows the team to discuss the results of the surfactants' effecitveness in improving kidney function. "
   ]
  },
  {
   "cell_type": "markdown",
   "metadata": {
    "cell_id": "2d7da0ed-acf3-4ba4-bee8-704de435ebbd",
    "deepnote_cell_type": "text-cell-p",
    "formattedRanges": [
     {
      "fromCodePoint": 0,
      "marks": {
       "code": true
      },
      "toCodePoint": 31,
      "type": "marks"
     }
    ],
    "is_collapsed": false,
    "tags": []
   },
   "source": [
    "Individuals design 5 prototypes: This room serves as an ideation space for individuals to brainstorm potential ideas. By the end of this phase, individuals are required to realise at least 5 ideas in the form of prototype designation."
   ]
  },
  {
   "cell_type": "markdown",
   "metadata": {
    "cell_id": "e9a1fb4c-390d-42bf-8f2a-0ba03006a89f",
    "deepnote_cell_type": "text-cell-p",
    "formattedRanges": [
     {
      "fromCodePoint": 0,
      "marks": {
       "code": true
      },
      "toCodePoint": 34,
      "type": "marks"
     }
    ],
    "is_collapsed": false,
    "tags": []
   },
   "source": [
    "Individual analysis of first batch: Individuals analyse and reflect upon the advantages and disadvantages of the their prototypes."
   ]
  },
  {
   "cell_type": "markdown",
   "metadata": {
    "cell_id": "fc689264-f2a8-4697-b396-cc1506d095a4",
    "deepnote_cell_type": "text-cell-p",
    "formattedRanges": [
     {
      "fromCodePoint": 0,
      "marks": {
       "code": true
      },
      "toCodePoint": 35,
      "type": "marks"
     }
    ],
    "is_collapsed": false,
    "tags": []
   },
   "source": [
    "Team designs batch using 1 material: This room contains the team's final design to be submitted as part of the first round of designs for Nephrotex. "
   ]
  },
  {
   "cell_type": "markdown",
   "metadata": {
    "cell_id": "bd11e669-4ab0-4a89-895a-419dfcddd535",
    "deepnote_cell_type": "text-cell-p",
    "formattedRanges": [
     {
      "fromCodePoint": 0,
      "marks": {
       "code": true
      },
      "toCodePoint": 49,
      "type": "marks"
     }
    ],
    "is_collapsed": false,
    "tags": []
   },
   "source": [
    "Reflection team discussion of first batch results: This room allows the team to discuss the effectiveness of their prototype submission and how to improve in later attempts. "
   ]
  },
  {
   "cell_type": "markdown",
   "metadata": {
    "cell_id": "4b67dfcfcdfc4e8ba86602ab4cd1e85e",
    "deepnote_cell_type": "text-cell-h2",
    "formattedRanges": [],
    "is_collapsed": false,
    "tags": []
   },
   "source": [
    "## Exploratory Data Analysis"
   ]
  },
  {
   "cell_type": "code",
   "execution_count": 3,
   "metadata": {
    "cell_id": "29540eff120b492795bb247eba3be25c",
    "deepnote_cell_type": "code",
    "deepnote_to_be_reexecuted": false,
    "execution_millis": 2919,
    "execution_start": 1680232849856,
    "source_hash": "483bf065"
   },
   "outputs": [],
   "source": [
    "# Import all required libraries \n",
    "\n",
    "import pandas as pd\n",
    "import seaborn as sns \n",
    "import matplotlib.pyplot as plt \n",
    "import numpy as np \n",
    "import sklearn\n",
    "from sklearn.metrics import accuracy_score,recall_score,precision_score\n",
    "from sklearn.ensemble import RandomForestRegressor\n",
    "from sklearn.ensemble import RandomForestClassifier\n",
    "from sklearn.model_selection import train_test_split\n",
    "from sklearn import preprocessing\n",
    "from sklearn.linear_model import LinearRegression\n",
    "from sklearn.preprocessing import PolynomialFeatures\n",
    "from sklearn.svm import SVC\n",
    "from sklearn.metrics import r2_score, mean_squared_error, mean_absolute_error\n",
    "from sklearn.model_selection import cross_validate, RepeatedKFold\n",
    "RS=42 #DO NOT CHANGE. This is the random state for the whole notebook"
   ]
  },
  {
   "cell_type": "code",
   "execution_count": 4,
   "metadata": {
    "cell_id": "2d52092c7cff4697bbfb92d400317991",
    "deepnote_cell_type": "code",
    "deepnote_to_be_reexecuted": false,
    "execution_millis": 79,
    "execution_start": 1680232852779,
    "source_hash": "665776bb"
   },
   "outputs": [],
   "source": [
    "chatData = pd.read_csv('virtualInternshipData_ADS2001.csv',encoding='latin1')"
   ]
  },
  {
   "cell_type": "code",
   "execution_count": 5,
   "metadata": {
    "cell_id": "a1dc9bdb696f4d3ca57682723c47ab7e",
    "deepnote_cell_type": "code",
    "deepnote_to_be_reexecuted": false,
    "execution_millis": 28,
    "execution_start": 1680232852927,
    "source_hash": "642a6259"
   },
   "outputs": [
    {
     "data": {
      "text/html": [
       "<div>\n",
       "<style scoped>\n",
       "    .dataframe tbody tr th:only-of-type {\n",
       "        vertical-align: middle;\n",
       "    }\n",
       "\n",
       "    .dataframe tbody tr th {\n",
       "        vertical-align: top;\n",
       "    }\n",
       "\n",
       "    .dataframe thead th {\n",
       "        text-align: right;\n",
       "    }\n",
       "</style>\n",
       "<table border=\"1\" class=\"dataframe\">\n",
       "  <thead>\n",
       "    <tr style=\"text-align: right;\">\n",
       "      <th></th>\n",
       "      <th>Unnamed: 0</th>\n",
       "      <th>userIDs</th>\n",
       "      <th>implementation</th>\n",
       "      <th>Line_ID</th>\n",
       "      <th>ChatGroup</th>\n",
       "      <th>content</th>\n",
       "      <th>group_id</th>\n",
       "      <th>RoleName</th>\n",
       "      <th>roomName</th>\n",
       "      <th>m_experimental_testing</th>\n",
       "      <th>m_making_design_choices</th>\n",
       "      <th>m_asking_questions</th>\n",
       "      <th>j_customer_consultants_requests</th>\n",
       "      <th>j_performance_parameters_requirements</th>\n",
       "      <th>j_communication</th>\n",
       "      <th>OutcomeScore</th>\n",
       "      <th>wordCount</th>\n",
       "    </tr>\n",
       "  </thead>\n",
       "  <tbody>\n",
       "    <tr>\n",
       "      <th>0</th>\n",
       "      <td>1</td>\n",
       "      <td>1</td>\n",
       "      <td>a</td>\n",
       "      <td>1</td>\n",
       "      <td>PRNLT</td>\n",
       "      <td>Hello team. Welcome to Nephrotex!</td>\n",
       "      <td>2</td>\n",
       "      <td>Mentor</td>\n",
       "      <td>Introduction and Workflow Tutorial with Entran...</td>\n",
       "      <td>0</td>\n",
       "      <td>0</td>\n",
       "      <td>0</td>\n",
       "      <td>0</td>\n",
       "      <td>0</td>\n",
       "      <td>0</td>\n",
       "      <td>4</td>\n",
       "      <td>5</td>\n",
       "    </tr>\n",
       "    <tr>\n",
       "      <th>1</th>\n",
       "      <td>2</td>\n",
       "      <td>1</td>\n",
       "      <td>a</td>\n",
       "      <td>2</td>\n",
       "      <td>PRNLT</td>\n",
       "      <td>I'm Maria Williams. I'll be your design adviso...</td>\n",
       "      <td>2</td>\n",
       "      <td>Mentor</td>\n",
       "      <td>Introduction and Workflow Tutorial with Entran...</td>\n",
       "      <td>0</td>\n",
       "      <td>0</td>\n",
       "      <td>0</td>\n",
       "      <td>0</td>\n",
       "      <td>0</td>\n",
       "      <td>0</td>\n",
       "      <td>4</td>\n",
       "      <td>11</td>\n",
       "    </tr>\n",
       "    <tr>\n",
       "      <th>2</th>\n",
       "      <td>3</td>\n",
       "      <td>1</td>\n",
       "      <td>a</td>\n",
       "      <td>3</td>\n",
       "      <td>PRNLT</td>\n",
       "      <td>I'm here to help if you have any questions.</td>\n",
       "      <td>2</td>\n",
       "      <td>Mentor</td>\n",
       "      <td>Introduction and Workflow Tutorial with Entran...</td>\n",
       "      <td>0</td>\n",
       "      <td>0</td>\n",
       "      <td>0</td>\n",
       "      <td>0</td>\n",
       "      <td>0</td>\n",
       "      <td>0</td>\n",
       "      <td>4</td>\n",
       "      <td>9</td>\n",
       "    </tr>\n",
       "    <tr>\n",
       "      <th>3</th>\n",
       "      <td>4</td>\n",
       "      <td>1</td>\n",
       "      <td>a</td>\n",
       "      <td>4</td>\n",
       "      <td>PRNLT</td>\n",
       "      <td>Please introduce yourselves with the name you ...</td>\n",
       "      <td>2</td>\n",
       "      <td>Mentor</td>\n",
       "      <td>Introduction and Workflow Tutorial with Entran...</td>\n",
       "      <td>0</td>\n",
       "      <td>0</td>\n",
       "      <td>0</td>\n",
       "      <td>1</td>\n",
       "      <td>0</td>\n",
       "      <td>0</td>\n",
       "      <td>4</td>\n",
       "      <td>51</td>\n",
       "    </tr>\n",
       "    <tr>\n",
       "      <th>4</th>\n",
       "      <td>5</td>\n",
       "      <td>1</td>\n",
       "      <td>a</td>\n",
       "      <td>5</td>\n",
       "      <td>PRNLT</td>\n",
       "      <td>I just want to make sure everyone has found th...</td>\n",
       "      <td>2</td>\n",
       "      <td>Mentor</td>\n",
       "      <td>Introduction and Workflow Tutorial with Entran...</td>\n",
       "      <td>0</td>\n",
       "      <td>0</td>\n",
       "      <td>0</td>\n",
       "      <td>0</td>\n",
       "      <td>0</td>\n",
       "      <td>0</td>\n",
       "      <td>4</td>\n",
       "      <td>39</td>\n",
       "    </tr>\n",
       "  </tbody>\n",
       "</table>\n",
       "</div>"
      ],
      "text/plain": [
       "   Unnamed: 0  userIDs implementation  Line_ID ChatGroup  \\\n",
       "0           1        1              a        1     PRNLT   \n",
       "1           2        1              a        2     PRNLT   \n",
       "2           3        1              a        3     PRNLT   \n",
       "3           4        1              a        4     PRNLT   \n",
       "4           5        1              a        5     PRNLT   \n",
       "\n",
       "                                             content  group_id RoleName  \\\n",
       "0                  Hello team. Welcome to Nephrotex!         2   Mentor   \n",
       "1  I'm Maria Williams. I'll be your design adviso...         2   Mentor   \n",
       "2        I'm here to help if you have any questions.         2   Mentor   \n",
       "3  Please introduce yourselves with the name you ...         2   Mentor   \n",
       "4  I just want to make sure everyone has found th...         2   Mentor   \n",
       "\n",
       "                                            roomName  m_experimental_testing  \\\n",
       "0  Introduction and Workflow Tutorial with Entran...                       0   \n",
       "1  Introduction and Workflow Tutorial with Entran...                       0   \n",
       "2  Introduction and Workflow Tutorial with Entran...                       0   \n",
       "3  Introduction and Workflow Tutorial with Entran...                       0   \n",
       "4  Introduction and Workflow Tutorial with Entran...                       0   \n",
       "\n",
       "   m_making_design_choices  m_asking_questions  \\\n",
       "0                        0                   0   \n",
       "1                        0                   0   \n",
       "2                        0                   0   \n",
       "3                        0                   0   \n",
       "4                        0                   0   \n",
       "\n",
       "   j_customer_consultants_requests  j_performance_parameters_requirements  \\\n",
       "0                                0                                      0   \n",
       "1                                0                                      0   \n",
       "2                                0                                      0   \n",
       "3                                1                                      0   \n",
       "4                                0                                      0   \n",
       "\n",
       "   j_communication  OutcomeScore  wordCount  \n",
       "0                0             4          5  \n",
       "1                0             4         11  \n",
       "2                0             4          9  \n",
       "3                0             4         51  \n",
       "4                0             4         39  "
      ]
     },
     "execution_count": 5,
     "metadata": {},
     "output_type": "execute_result"
    }
   ],
   "source": [
    "chatData.head()"
   ]
  },
  {
   "cell_type": "code",
   "execution_count": 6,
   "metadata": {
    "cell_id": "49539de807a84bd3834481e5d3d0008e",
    "deepnote_cell_type": "code",
    "deepnote_to_be_reexecuted": false,
    "execution_millis": 49,
    "execution_start": 1680232852970,
    "source_hash": "155bff75"
   },
   "outputs": [
    {
     "name": "stdout",
     "output_type": "stream",
     "text": [
      "<class 'pandas.core.frame.DataFrame'>\n",
      "RangeIndex: 19180 entries, 0 to 19179\n",
      "Data columns (total 17 columns):\n",
      " #   Column                                 Non-Null Count  Dtype \n",
      "---  ------                                 --------------  ----- \n",
      " 0   Unnamed: 0                             19180 non-null  int64 \n",
      " 1   userIDs                                19180 non-null  int64 \n",
      " 2   implementation                         19180 non-null  object\n",
      " 3   Line_ID                                19180 non-null  int64 \n",
      " 4   ChatGroup                              19180 non-null  object\n",
      " 5   content                                19180 non-null  object\n",
      " 6   group_id                               19180 non-null  int64 \n",
      " 7   RoleName                               19177 non-null  object\n",
      " 8   roomName                               19180 non-null  object\n",
      " 9   m_experimental_testing                 19180 non-null  int64 \n",
      " 10  m_making_design_choices                19180 non-null  int64 \n",
      " 11  m_asking_questions                     19180 non-null  int64 \n",
      " 12  j_customer_consultants_requests        19180 non-null  int64 \n",
      " 13  j_performance_parameters_requirements  19180 non-null  int64 \n",
      " 14  j_communication                        19180 non-null  int64 \n",
      " 15  OutcomeScore                           19180 non-null  int64 \n",
      " 16  wordCount                              19180 non-null  int64 \n",
      "dtypes: int64(12), object(5)\n",
      "memory usage: 2.5+ MB\n"
     ]
    }
   ],
   "source": [
    "# Explore the data types of all our columns\n",
    "\n",
    "chatData.info()\n"
   ]
  },
  {
   "cell_type": "code",
   "execution_count": 7,
   "metadata": {
    "cell_id": "4357b9dcae7347048b8081b6c71df138",
    "deepnote_cell_type": "code",
    "deepnote_to_be_reexecuted": false,
    "execution_millis": 15,
    "execution_start": 1680232853015,
    "source_hash": "a77a1dba",
    "tags": []
   },
   "outputs": [
    {
     "name": "stdout",
     "output_type": "stream",
     "text": [
      "(19180, 17)\n"
     ]
    }
   ],
   "source": [
    "# Examine dimensionality of the raw data\n",
    "\n",
    "print(chatData.shape)"
   ]
  },
  {
   "cell_type": "code",
   "execution_count": 8,
   "metadata": {
    "cell_id": "acb734c4b7da4568a6b1563c39bbdfb1",
    "deepnote_cell_type": "code",
    "deepnote_to_be_reexecuted": false,
    "execution_millis": 8,
    "execution_start": 1680232853027,
    "source_hash": "18836e14",
    "tags": []
   },
   "outputs": [
    {
     "data": {
      "text/plain": [
       "Unnamed: 0                               0\n",
       "userIDs                                  0\n",
       "implementation                           0\n",
       "Line_ID                                  0\n",
       "ChatGroup                                0\n",
       "content                                  0\n",
       "group_id                                 0\n",
       "RoleName                                 3\n",
       "roomName                                 0\n",
       "m_experimental_testing                   0\n",
       "m_making_design_choices                  0\n",
       "m_asking_questions                       0\n",
       "j_customer_consultants_requests          0\n",
       "j_performance_parameters_requirements    0\n",
       "j_communication                          0\n",
       "OutcomeScore                             0\n",
       "wordCount                                0\n",
       "dtype: int64"
      ]
     },
     "execution_count": 8,
     "metadata": {},
     "output_type": "execute_result"
    }
   ],
   "source": [
    "# Any missing values? If yes -> must delete or impute\n",
    "\n",
    "chatData.isnull().sum()"
   ]
  },
  {
   "cell_type": "markdown",
   "metadata": {
    "cell_id": "60769e60c3434ae7b287377b0df7fa2f",
    "deepnote_cell_type": "text-cell-h3",
    "formattedRanges": []
   },
   "source": [
    "### Variables in the Nephrotex Dataset:"
   ]
  },
  {
   "cell_type": "markdown",
   "metadata": {
    "cell_id": "19aec41a-f731-463d-8d5a-be4d5892b4db",
    "deepnote_cell_type": "text-cell-p",
    "formattedRanges": []
   },
   "source": []
  },
  {
   "cell_type": "markdown",
   "metadata": {
    "cell_id": "1177bf8148de4b83a29799930b772a46",
    "deepnote_cell_type": "markdown",
    "tags": []
   },
   "source": [
    "The dataset contains the chat records from 15 implementations of Nephrotex. They are labelled with the presence and absence of various concepts in engineering discourse relating to design moves and design justifications. We want to model a students perfomance on the report based on what they have discussed within the chat throughout the internship. \n",
    "\n",
    "- `UserIDs` = a unique id for each student\n",
    "- `implementation` = id for each implementation of nephrotex (there were 15 implementations)\n",
    "- `Line_ID` = unique Id for the chat utterance\n",
    "- `ChatGroup` = id for the team the chatter was in. (String values are the teams from the first half of the internship, numeric are the teams from the second part of the intership - interns swapped teams halfway through) \n",
    "- `content` = content of the chat utterance\n",
    "- `group_id` = numerical id for the team the chatter was in\n",
    "- `RoleName` = Chatter was a **Mentor** or **Player** \n",
    "- `roomName` = the internship activity that the chatter was participating in\n",
    "- `OutcomeScore`  = A mark from 0 -> 8 indicating quality of the chatter's final design report. (Not everyone in the same group got the same score)\n",
    "-  `wordCount`  = no. of words in chat content\n",
    "\n",
    "Design <u>Moves</u> (Dummy Variables)\n",
    "- `m_experimental_testing` = talks about using experimental techniques to understand the technical features of the design \n",
    "- `m_making_design_choices` = talks about choosing a specification or characteristic for a design. \n",
    "- `m_asking_questions` = asks a question\n",
    "\n",
    "Design <u>justifications</u> (Dummy Variables)\n",
    "- `j_customer_consultants_requests` = states whether they should meet or exceed stakeholder requests\n",
    "- `j_performance_parameters_requirements`  = refers to performance parameters or experimental results\n",
    "- `j_communication`  = refers to how it can facilitate communication among the engineers\n",
    "\n"
   ]
  },
  {
   "cell_type": "code",
   "execution_count": 9,
   "metadata": {
    "cell_id": "8ed6026299a44b82aec246093ecb36dc",
    "deepnote_cell_type": "code",
    "deepnote_to_be_reexecuted": false,
    "execution_millis": 124,
    "execution_start": 1680232853039,
    "source_hash": "aa825131",
    "tags": []
   },
   "outputs": [
    {
     "data": {
      "text/html": [
       "<div>\n",
       "<style scoped>\n",
       "    .dataframe tbody tr th:only-of-type {\n",
       "        vertical-align: middle;\n",
       "    }\n",
       "\n",
       "    .dataframe tbody tr th {\n",
       "        vertical-align: top;\n",
       "    }\n",
       "\n",
       "    .dataframe thead th {\n",
       "        text-align: right;\n",
       "    }\n",
       "</style>\n",
       "<table border=\"1\" class=\"dataframe\">\n",
       "  <thead>\n",
       "    <tr style=\"text-align: right;\">\n",
       "      <th></th>\n",
       "      <th>Unnamed: 0</th>\n",
       "      <th>userIDs</th>\n",
       "      <th>Line_ID</th>\n",
       "      <th>group_id</th>\n",
       "      <th>m_experimental_testing</th>\n",
       "      <th>m_making_design_choices</th>\n",
       "      <th>m_asking_questions</th>\n",
       "      <th>j_customer_consultants_requests</th>\n",
       "      <th>j_performance_parameters_requirements</th>\n",
       "      <th>j_communication</th>\n",
       "      <th>OutcomeScore</th>\n",
       "      <th>wordCount</th>\n",
       "    </tr>\n",
       "  </thead>\n",
       "  <tbody>\n",
       "    <tr>\n",
       "      <th>count</th>\n",
       "      <td>19180.0000</td>\n",
       "      <td>19180.0000</td>\n",
       "      <td>19180.0000</td>\n",
       "      <td>19180.0000</td>\n",
       "      <td>19180.0000</td>\n",
       "      <td>19180.0000</td>\n",
       "      <td>19180.0000</td>\n",
       "      <td>19180.0000</td>\n",
       "      <td>19180.0000</td>\n",
       "      <td>19180.0000</td>\n",
       "      <td>19180.0000</td>\n",
       "      <td>19180.0000</td>\n",
       "    </tr>\n",
       "    <tr>\n",
       "      <th>mean</th>\n",
       "      <td>9590.5000</td>\n",
       "      <td>202.4332</td>\n",
       "      <td>9592.7938</td>\n",
       "      <td>3.9167</td>\n",
       "      <td>0.0287</td>\n",
       "      <td>0.1029</td>\n",
       "      <td>0.1870</td>\n",
       "      <td>0.0181</td>\n",
       "      <td>0.0522</td>\n",
       "      <td>0.0211</td>\n",
       "      <td>3.7416</td>\n",
       "      <td>12.4895</td>\n",
       "    </tr>\n",
       "    <tr>\n",
       "      <th>std</th>\n",
       "      <td>5536.9334</td>\n",
       "      <td>118.3552</td>\n",
       "      <td>5537.8007</td>\n",
       "      <td>1.3979</td>\n",
       "      <td>0.1670</td>\n",
       "      <td>0.3038</td>\n",
       "      <td>0.3899</td>\n",
       "      <td>0.1335</td>\n",
       "      <td>0.2225</td>\n",
       "      <td>0.1436</td>\n",
       "      <td>1.4648</td>\n",
       "      <td>14.1172</td>\n",
       "    </tr>\n",
       "    <tr>\n",
       "      <th>min</th>\n",
       "      <td>1.0000</td>\n",
       "      <td>1.0000</td>\n",
       "      <td>1.0000</td>\n",
       "      <td>2.0000</td>\n",
       "      <td>0.0000</td>\n",
       "      <td>0.0000</td>\n",
       "      <td>0.0000</td>\n",
       "      <td>0.0000</td>\n",
       "      <td>0.0000</td>\n",
       "      <td>0.0000</td>\n",
       "      <td>0.0000</td>\n",
       "      <td>1.0000</td>\n",
       "    </tr>\n",
       "    <tr>\n",
       "      <th>25%</th>\n",
       "      <td>4795.7500</td>\n",
       "      <td>96.0000</td>\n",
       "      <td>4796.7500</td>\n",
       "      <td>3.0000</td>\n",
       "      <td>0.0000</td>\n",
       "      <td>0.0000</td>\n",
       "      <td>0.0000</td>\n",
       "      <td>0.0000</td>\n",
       "      <td>0.0000</td>\n",
       "      <td>0.0000</td>\n",
       "      <td>3.0000</td>\n",
       "      <td>4.0000</td>\n",
       "    </tr>\n",
       "    <tr>\n",
       "      <th>50%</th>\n",
       "      <td>9590.5000</td>\n",
       "      <td>204.0000</td>\n",
       "      <td>9593.5000</td>\n",
       "      <td>4.0000</td>\n",
       "      <td>0.0000</td>\n",
       "      <td>0.0000</td>\n",
       "      <td>0.0000</td>\n",
       "      <td>0.0000</td>\n",
       "      <td>0.0000</td>\n",
       "      <td>0.0000</td>\n",
       "      <td>4.0000</td>\n",
       "      <td>9.0000</td>\n",
       "    </tr>\n",
       "    <tr>\n",
       "      <th>75%</th>\n",
       "      <td>14385.2500</td>\n",
       "      <td>317.0000</td>\n",
       "      <td>14388.2500</td>\n",
       "      <td>5.0000</td>\n",
       "      <td>0.0000</td>\n",
       "      <td>0.0000</td>\n",
       "      <td>0.0000</td>\n",
       "      <td>0.0000</td>\n",
       "      <td>0.0000</td>\n",
       "      <td>0.0000</td>\n",
       "      <td>4.0000</td>\n",
       "      <td>17.0000</td>\n",
       "    </tr>\n",
       "    <tr>\n",
       "      <th>max</th>\n",
       "      <td>19180.0000</td>\n",
       "      <td>393.0000</td>\n",
       "      <td>19183.0000</td>\n",
       "      <td>6.0000</td>\n",
       "      <td>1.0000</td>\n",
       "      <td>1.0000</td>\n",
       "      <td>1.0000</td>\n",
       "      <td>1.0000</td>\n",
       "      <td>1.0000</td>\n",
       "      <td>1.0000</td>\n",
       "      <td>8.0000</td>\n",
       "      <td>1032.0000</td>\n",
       "    </tr>\n",
       "  </tbody>\n",
       "</table>\n",
       "</div>"
      ],
      "text/plain": [
       "       Unnamed: 0     userIDs     Line_ID    group_id  m_experimental_testing  \\\n",
       "count  19180.0000  19180.0000  19180.0000  19180.0000              19180.0000   \n",
       "mean    9590.5000    202.4332   9592.7938      3.9167                  0.0287   \n",
       "std     5536.9334    118.3552   5537.8007      1.3979                  0.1670   \n",
       "min        1.0000      1.0000      1.0000      2.0000                  0.0000   \n",
       "25%     4795.7500     96.0000   4796.7500      3.0000                  0.0000   \n",
       "50%     9590.5000    204.0000   9593.5000      4.0000                  0.0000   \n",
       "75%    14385.2500    317.0000  14388.2500      5.0000                  0.0000   \n",
       "max    19180.0000    393.0000  19183.0000      6.0000                  1.0000   \n",
       "\n",
       "       m_making_design_choices  m_asking_questions  \\\n",
       "count               19180.0000          19180.0000   \n",
       "mean                    0.1029              0.1870   \n",
       "std                     0.3038              0.3899   \n",
       "min                     0.0000              0.0000   \n",
       "25%                     0.0000              0.0000   \n",
       "50%                     0.0000              0.0000   \n",
       "75%                     0.0000              0.0000   \n",
       "max                     1.0000              1.0000   \n",
       "\n",
       "       j_customer_consultants_requests  j_performance_parameters_requirements  \\\n",
       "count                       19180.0000                             19180.0000   \n",
       "mean                            0.0181                                 0.0522   \n",
       "std                             0.1335                                 0.2225   \n",
       "min                             0.0000                                 0.0000   \n",
       "25%                             0.0000                                 0.0000   \n",
       "50%                             0.0000                                 0.0000   \n",
       "75%                             0.0000                                 0.0000   \n",
       "max                             1.0000                                 1.0000   \n",
       "\n",
       "       j_communication  OutcomeScore   wordCount  \n",
       "count       19180.0000    19180.0000  19180.0000  \n",
       "mean            0.0211        3.7416     12.4895  \n",
       "std             0.1436        1.4648     14.1172  \n",
       "min             0.0000        0.0000      1.0000  \n",
       "25%             0.0000        3.0000      4.0000  \n",
       "50%             0.0000        4.0000      9.0000  \n",
       "75%             0.0000        4.0000     17.0000  \n",
       "max             1.0000        8.0000   1032.0000  "
      ]
     },
     "execution_count": 9,
     "metadata": {},
     "output_type": "execute_result"
    }
   ],
   "source": [
    "# Descriptive Statistics \n",
    "\n",
    "stats=chatData.describe().round(4)\n",
    "stats"
   ]
  },
  {
   "cell_type": "markdown",
   "metadata": {
    "cell_id": "12e7162170994149bce4ed15fb1905cd",
    "deepnote_cell_type": "text-cell-h3",
    "formattedRanges": []
   },
   "source": [
    "### Visualisation"
   ]
  },
  {
   "cell_type": "code",
   "execution_count": 10,
   "metadata": {
    "cell_id": "6a61361ab16245fdbea578e8c879908e",
    "deepnote_cell_type": "code",
    "deepnote_to_be_reexecuted": false,
    "execution_millis": 29,
    "execution_start": 1680232853212,
    "source_hash": "6a94278d",
    "tags": []
   },
   "outputs": [],
   "source": [
    "quantitative_feats=chatData.drop(['userIDs','Line_ID','implementation','roomName','content','ChatGroup'],axis=1)\n",
    "processed_quantitative=pd.get_dummies(quantitative_feats, prefix=['RoleName'], columns=['RoleName'])\n",
    "processed_quantitative=processed_quantitative.drop(['RoleName_Mentor','RoleName_Player'],axis=1)\n",
    "normalised_processed=(processed_quantitative-processed_quantitative.mean())/processed_quantitative.std()\n",
    "teams=processed_quantitative.groupby('group_id')\n",
    "group2=teams.get_group(2).drop(['group_id'],axis=1).drop(['wordCount','OutcomeScore'],axis=1)\n",
    "group3=teams.get_group(3).drop(['group_id'],axis=1).drop(['wordCount','OutcomeScore'],axis=1)\n",
    "group4=teams.get_group(4).drop(['group_id'],axis=1).drop(['wordCount','OutcomeScore'],axis=1)\n",
    "group5=teams.get_group(5).drop(['group_id'],axis=1).drop(['wordCount','OutcomeScore'],axis=1)\n",
    "group6=teams.get_group(6).drop(['group_id'],axis=1).drop(['wordCount','OutcomeScore'],axis=1)"
   ]
  },
  {
   "cell_type": "code",
   "execution_count": 11,
   "metadata": {
    "cell_id": "ce6a3805ab9e40ffae88ca3b60222cf3",
    "deepnote_cell_type": "code",
    "deepnote_to_be_reexecuted": false,
    "execution_millis": 553,
    "execution_start": 1680232853247,
    "source_hash": "741f876a",
    "tags": []
   },
   "outputs": [
    {
     "data": {
      "image/png": "[encoded data removed]",
      "text/plain": [
       "<Figure size 432x288 with 1 Axes>"
      ]
     },
     "metadata": {
      "needs_background": "light"
     },
     "output_type": "display_data"
    }
   ],
   "source": [
    "stats_2=pd.DataFrame(group2.sum()).transpose()\n",
    "stats_3=pd.DataFrame(group3.sum()).transpose()\n",
    "stats_4=pd.DataFrame(group4.sum()).transpose()\n",
    "stats_5=pd.DataFrame(group5.sum()).transpose()\n",
    "stats_6=pd.DataFrame(group6.sum()).transpose()\n",
    "all_stats=pd.concat([stats_2,stats_3,stats_4,stats_5,stats_6])\n",
    "group_id=[2,3,4,5,6]\n",
    "all_stats['group_id']=group_id\n",
    "all_stats.plot(x='group_id',kind='bar',stacked=True,title='categorized quantities of types of messages')\n",
    "plt.ylabel('message frequency')\n",
    "plt.legend(bbox_to_anchor=(1.05, 1), loc='upper left', borderaxespad=0)\n",
    "plt.show()"
   ]
  },
  {
   "cell_type": "markdown",
   "metadata": {
    "cell_id": "d6881a4531694ed09c76f1a1b3ede3a0",
    "deepnote_cell_type": "text-cell-p",
    "formattedRanges": [],
    "is_collapsed": false
   },
   "source": [
    "As observed, the proportion of types of messages being sent by each group is similar. This may lead to the conclusion that the quantity of types of messages being sent may not be a significant differentiator between the performance of each group. Rather, the nature of questions being asked may have a greater impact on the outcome of each team's project."
   ]
  },
  {
   "cell_type": "markdown",
   "metadata": {
    "cell_id": "0ebc9632573141cfabee74b259658c33",
    "deepnote_cell_type": "text-cell-p",
    "formattedRanges": [],
    "is_collapsed": false,
    "tags": []
   },
   "source": [
    "First, we analyse the data at quantitative level to find pre-existing trends before implementing more complex methods. Analysing at a quantitative level enables the use of regression models and statistical correlation tools"
   ]
  },
  {
   "cell_type": "code",
   "execution_count": 12,
   "metadata": {
    "cell_id": "04418a917fe24476917bc12930733566",
    "deepnote_cell_type": "code",
    "deepnote_to_be_reexecuted": false,
    "execution_millis": 2,
    "execution_start": 1680232853803,
    "source_hash": "29efe7c8",
    "tags": []
   },
   "outputs": [],
   "source": [
    "def plt_correlation_matrix(corrs):\n",
    "    '''Uses the seaborn heatmap to plot the correlation matrix of a pandas dataframe''' \n",
    "    # as this is a symmetric table, set up a mask so that we only plot values \n",
    "    # below the main diagonal\n",
    "    mask = np.triu(np.ones_like(corrs, dtype=np.bool))\n",
    "    f, ax = plt.subplots(figsize=(10, 8)) # initialise the plots and axes\n",
    "    # plot the correlations as a seaborn heatmap, with a colourbar\n",
    "    sns.heatmap(corrs, mask=mask, center=0, annot=True, square=True, linewidths=.5) \n",
    "    # do some fiddling so that the top and bottom are not obscured\n",
    "    bottom, top = ax.get_ylim() \n",
    "    ax.set_ylim(bottom + 0.5, top - 0.5)"
   ]
  },
  {
   "cell_type": "code",
   "execution_count": 13,
   "metadata": {
    "cell_id": "52422e75d5aa4d50932e709c86bbcc7d",
    "deepnote_cell_type": "code",
    "deepnote_to_be_reexecuted": false,
    "execution_millis": 1476,
    "execution_start": 1680232853806,
    "source_hash": "51a6475f",
    "tags": []
   },
   "outputs": [
    {
     "name": "stderr",
     "output_type": "stream",
     "text": [
      "/var/folders/8s/9tq1cw9n5p9ctt215htgjcw40000gn/T/ipykernel_36692/2398561421.py:5: DeprecationWarning: `np.bool` is a deprecated alias for the builtin `bool`. To silence this warning, use `bool` by itself. Doing this will not modify any behavior and is safe. If you specifically wanted the numpy scalar type, use `np.bool_` here.\n",
      "Deprecated in NumPy 1.20; for more details and guidance: https://numpy.org/devdocs/release/1.20.0-notes.html#deprecations\n",
      "  mask = np.triu(np.ones_like(corrs, dtype=np.bool))\n"
     ]
    },
    {
     "data": {
      "image/png": "[encoded data removed]",
      "text/plain": [
       "<Figure size 720x576 with 2 Axes>"
      ]
     },
     "metadata": {
      "needs_background": "light"
     },
     "output_type": "display_data"
    }
   ],
   "source": [
    "plt_correlation_matrix(normalised_processed.corr())"
   ]
  },
  {
   "cell_type": "markdown",
   "metadata": {
    "cell_id": "48e044473a8d48bc9507c4558ecf3f34",
    "deepnote_cell_type": "text-cell-p",
    "formattedRanges": [],
    "is_collapsed": false,
    "tags": []
   },
   "source": [
    "At a glance, we can see that wordCount has a low correlation with outcome score which could suggest that it does not affect outcome score. However, this is insufficient evidence because other factors such as m_making_design_choices, seemingly have a lower correlation to score than wordCount. Hence, another approach that could be used in the form of a feature importance visualisation."
   ]
  },
  {
   "cell_type": "code",
   "execution_count": 14,
   "metadata": {
    "cell_id": "36c4f26511294f4d94a3f6812a51f0de",
    "deepnote_cell_type": "code",
    "deepnote_to_be_reexecuted": false,
    "execution_millis": 6,
    "execution_start": 1680232855284,
    "source_hash": "31f8ee5c",
    "tags": []
   },
   "outputs": [],
   "source": [
    "X=processed_quantitative.drop(['OutcomeScore','group_id'],axis=1)\n",
    "nX=preprocessing.normalize(X)\n",
    "y=processed_quantitative['OutcomeScore']\n",
    "X_train, X_test, Y_train, Y_test = train_test_split(nX, y, test_size=0.2,random_state=np.random.RandomState(RS))#80/20 split"
   ]
  },
  {
   "cell_type": "code",
   "execution_count": 27,
   "metadata": {},
   "outputs": [
    {
     "name": "stdout",
     "output_type": "stream",
     "text": [
      "[[1.96116135e-01 0.00000000e+00 0.00000000e+00 ... 0.00000000e+00\n",
      "  0.00000000e+00 9.80580676e-01]\n",
      " [1.78885438e-01 0.00000000e+00 0.00000000e+00 ... 0.00000000e+00\n",
      "  0.00000000e+00 9.83869910e-01]\n",
      " [3.16227766e-01 0.00000000e+00 0.00000000e+00 ... 0.00000000e+00\n",
      "  0.00000000e+00 9.48683298e-01]\n",
      " ...\n",
      " [9.99999890e-01 0.00000000e+00 0.00000000e+00 ... 0.00000000e+00\n",
      "  0.00000000e+00 4.69287674e-04]\n",
      " [9.99999999e-01 0.00000000e+00 0.00000000e+00 ... 0.00000000e+00\n",
      "  0.00000000e+00 5.21403618e-05]\n",
      " [9.99999836e-01 0.00000000e+00 0.00000000e+00 ... 0.00000000e+00\n",
      "  0.00000000e+00 5.73513983e-04]]\n"
     ]
    }
   ],
   "source": [
    "print(nX)"
   ]
  },
  {
   "cell_type": "code",
   "execution_count": 16,
   "metadata": {
    "cell_id": "e928b14e87a2466a87bca6a30527645a",
    "deepnote_cell_type": "code",
    "deepnote_to_be_reexecuted": false,
    "execution_millis": 493,
    "execution_start": 1680232855294,
    "source_hash": "c72277f6",
    "tags": []
   },
   "outputs": [
    {
     "data": {
      "image/png": "[encoded data removed]",
      "text/plain": [
       "<Figure size 720x504 with 1 Axes>"
      ]
     },
     "metadata": {
      "needs_background": "light"
     },
     "output_type": "display_data"
    }
   ],
   "source": [
    "linear = LinearRegression()  # Instantatiate the linear regression model\n",
    "linear.fit(X_train,Y_train)\n",
    "feature_names = X.columns.tolist()\n",
    "coefficients = pd.Series(data=linear.coef_.transpose(), index=feature_names)\n",
    "coefficients.plot(kind='bar', figsize=(10, 7)) # plot these as a bar plot\n",
    "plt.title('Linear Regression: Importance of features') \n",
    "plt.ylabel('feature importance')\n",
    "plt.axhline(y=0, color='.5') #\n",
    "plt.subplots_adjust(left=.3) "
   ]
  },
  {
   "cell_type": "markdown",
   "metadata": {
    "cell_id": "a9a893a858b14031a6a25fbd6302696b",
    "deepnote_cell_type": "text-cell-h2",
    "formattedRanges": []
   },
   "source": [
    "## Predictive modelling"
   ]
  },
  {
   "cell_type": "markdown",
   "metadata": {
    "cell_id": "f58b16bced23492485b73b35f0456864",
    "deepnote_cell_type": "text-cell-h3",
    "formattedRanges": []
   },
   "source": [
    "### Multivariate Linear Regression"
   ]
  },
  {
   "cell_type": "markdown",
   "metadata": {
    "cell_id": "4c62abfb26c04a4fa55c500c8f003a75",
    "deepnote_cell_type": "text-cell-p",
    "formattedRanges": [],
    "is_collapsed": false
   },
   "source": [
    "The first model used will be multivariate linear regression. The goal of this model is to find the top quantitative factors that affect the outcome score of the work produced by each team. "
   ]
  },
  {
   "cell_type": "code",
   "execution_count": 17,
   "metadata": {
    "cell_id": "5d2710423966430d9c4b7b29f792b4f8",
    "deepnote_cell_type": "code",
    "deepnote_to_be_reexecuted": false,
    "execution_millis": 3,
    "execution_start": 1680232855830,
    "source_hash": "34ce448d"
   },
   "outputs": [
    {
     "data": {
      "text/html": [
       "<div>\n",
       "<style scoped>\n",
       "    .dataframe tbody tr th:only-of-type {\n",
       "        vertical-align: middle;\n",
       "    }\n",
       "\n",
       "    .dataframe tbody tr th {\n",
       "        vertical-align: top;\n",
       "    }\n",
       "\n",
       "    .dataframe thead th {\n",
       "        text-align: right;\n",
       "    }\n",
       "</style>\n",
       "<table border=\"1\" class=\"dataframe\">\n",
       "  <thead>\n",
       "    <tr style=\"text-align: right;\">\n",
       "      <th></th>\n",
       "      <th>R^2</th>\n",
       "      <th>RMSE</th>\n",
       "      <th>MAE</th>\n",
       "    </tr>\n",
       "  </thead>\n",
       "  <tbody>\n",
       "    <tr>\n",
       "      <th>train</th>\n",
       "      <td>0.001135</td>\n",
       "      <td>1.464206</td>\n",
       "      <td>1.090675</td>\n",
       "    </tr>\n",
       "    <tr>\n",
       "      <th>test</th>\n",
       "      <td>-0.009374</td>\n",
       "      <td>1.470670</td>\n",
       "      <td>1.092928</td>\n",
       "    </tr>\n",
       "  </tbody>\n",
       "</table>\n",
       "</div>"
      ],
      "text/plain": [
       "            R^2      RMSE       MAE\n",
       "train  0.001135  1.464206  1.090675\n",
       "test  -0.009374  1.470670  1.092928"
      ]
     },
     "execution_count": 17,
     "metadata": {},
     "output_type": "execute_result"
    }
   ],
   "source": [
    "linear = LinearRegression()\n",
    "linear.fit(X_train,Y_train)\n",
    "training_predictions = linear.predict(X_train)\n",
    "testing_predictions = linear.predict(X_test) \n",
    "pd.DataFrame({\n",
    "    \"R^2\": {\n",
    "        \"train\": r2_score(Y_train, training_predictions),\n",
    "        \"test\": r2_score(Y_test, testing_predictions)\n",
    "    },\n",
    "    \"RMSE\": {\n",
    "        \"train\": mean_squared_error(Y_train, training_predictions, squared=False),\n",
    "        \"test\": mean_squared_error(Y_test, testing_predictions, squared=False),\n",
    "    },\n",
    "    \"MAE\": {\n",
    "        \"train\": mean_absolute_error(Y_train, training_predictions),\n",
    "        \"test\": mean_absolute_error(Y_test, testing_predictions),\n",
    "    },\n",
    "})"
   ]
  },
  {
   "cell_type": "code",
   "execution_count": 18,
   "metadata": {
    "cell_id": "dae5f6ef38384bc3ae826ff1362ff9ee",
    "deepnote_cell_type": "code",
    "deepnote_to_be_reexecuted": false,
    "execution_millis": 1392,
    "execution_start": 1680232855874,
    "source_hash": "6eb44f6f"
   },
   "outputs": [
    {
     "data": {
      "image/png": "[encoded data removed]",
      "text/plain": [
       "<Figure size 2160x1440 with 1 Axes>"
      ]
     },
     "metadata": {
      "needs_background": "light"
     },
     "output_type": "display_data"
    }
   ],
   "source": [
    "scores = cross_validate(\n",
    "    linear, nX, y,\n",
    "    cv=RepeatedKFold(n_splits=5, n_repeats=5, random_state=np.random.RandomState(RS)),\n",
    "    return_estimator=True,\n",
    ")\n",
    "coefs = pd.DataFrame([est.coef_ for est in scores['estimator']], columns=feature_names)\n",
    "ax = coefs.plot(kind='box',figsize=(30,20))\n",
    "plt.title('Linear Regression')\n",
    "plt.xlabel('features')\n",
    "plt.ylabel('feature coefficients')\n",
    "plt.axhline(y=0, color='.5')\n",
    "plt.subplots_adjust(left=.1)"
   ]
  },
  {
   "cell_type": "markdown",
   "metadata": {
    "cell_id": "aa9bbcf72dae4962ab562680e48a2fb6",
    "deepnote_cell_type": "text-cell-p",
    "formattedRanges": [],
    "is_collapsed": false
   },
   "source": [
    "As observed, the most significant factors increasing outcome score are experimental testing and customer consultant requests. Moderate factors that increase score slightly are the performance_parameter_requirements and word count. All other observed factors are observed to have a slightly negative impact on outcome score. However, the biggest shortcoming of the model is that the data is technically not continous although it could be interpreted in such a way. Therefore, further investigation is required to produce a sensible insight."
   ]
  },
  {
   "cell_type": "markdown",
   "metadata": {
    "cell_id": "74b830eb-897c-4100-9455-8be2a24038d9",
    "deepnote_cell_type": "text-cell-p",
    "formattedRanges": [],
    "is_collapsed": false
   },
   "source": [
    "The next most appropriate choice would be using a classifier model such as a support vector machine. Find the optimal parameters fitted to the training set"
   ]
  },
  {
   "cell_type": "markdown",
   "metadata": {
    "cell_id": "7fd1cc80144a496b9cf85cbacd2eb285",
    "deepnote_cell_type": "text-cell-h3",
    "formattedRanges": []
   },
   "source": [
    "### Support Vector Machine Classifier"
   ]
  },
  {
   "cell_type": "code",
   "execution_count": 19,
   "metadata": {
    "cell_id": "b7d0cbb3a56c4bc18ba42dfe3d8acae6",
    "deepnote_cell_type": "code",
    "deepnote_to_be_reexecuted": false,
    "execution_millis": 4,
    "execution_start": 1680232857271,
    "source_hash": "b84d30ee"
   },
   "outputs": [],
   "source": [
    "def plt_decision_boundaries(skm,X):\n",
    "    \"\"\"\n",
    "    Takes a sklearn model (skm) with two features specified by the (N,2) array X and plots the decision boundaries.\n",
    "    \"\"\"\n",
    "    h = .02  # step size in the mesh\n",
    "    x_min, x_max = X[:, 0].min() - 1, X[:, 0].max() + 1 # find the minimum and maximum of the first feature\n",
    "    y_min, y_max = X[:, 1].min() - 1, X[:, 1].max() + 1 # find the minimum and maximum of the second feature\n",
    "    # create a rectangular grid which goes from the minimum to maximum values in step-size of h\n",
    "    xx, yy = np.meshgrid(np.arange(x_min, x_max, h),np.arange(y_min, y_max, h)) \n",
    "    # ravel is a numpy method which converts a two-dimensional array of size (n,m) to a vector of length nm\n",
    "    # column_stack is a numpy function which takes two column arrays of length N \n",
    "    # and creates a two-dimensional array of size (N,2)\n",
    "    # now pass the (N,2) array to the model and predict values based on these features, zz will have size (N,1)\n",
    "    zz = skm.predict(np.column_stack([xx.ravel(), yy.ravel()]))  \n",
    "    zz = zz.reshape(xx.shape) # reshape zz so it has the size of the original array xx, i.e., (n,m)\n",
    "    plt.contourf(xx, yy, zz, cmap=plt.cm.Paired) # plot the decision boundaries as filled contours"
   ]
  },
  {
   "cell_type": "code",
   "execution_count": 20,
   "metadata": {
    "cell_id": "0e86f808a4ff446a83de594f9f7f6bbe",
    "deepnote_cell_type": "code",
    "deepnote_to_be_reexecuted": false,
    "execution_millis": 34,
    "execution_start": 1680234649641,
    "source_hash": "f75afcf7"
   },
   "outputs": [
    {
     "data": {
      "text/html": [
       "<div>\n",
       "<style scoped>\n",
       "    .dataframe tbody tr th:only-of-type {\n",
       "        vertical-align: middle;\n",
       "    }\n",
       "\n",
       "    .dataframe tbody tr th {\n",
       "        vertical-align: top;\n",
       "    }\n",
       "\n",
       "    .dataframe thead th {\n",
       "        text-align: right;\n",
       "    }\n",
       "</style>\n",
       "<table border=\"1\" class=\"dataframe\">\n",
       "  <thead>\n",
       "    <tr style=\"text-align: right;\">\n",
       "      <th></th>\n",
       "      <th>Unnamed: 0</th>\n",
       "      <th>group_id</th>\n",
       "      <th>m_experimental_testing</th>\n",
       "      <th>m_making_design_choices</th>\n",
       "      <th>m_asking_questions</th>\n",
       "      <th>j_customer_consultants_requests</th>\n",
       "      <th>j_performance_parameters_requirements</th>\n",
       "      <th>j_communication</th>\n",
       "      <th>OutcomeScore</th>\n",
       "    </tr>\n",
       "  </thead>\n",
       "  <tbody>\n",
       "    <tr>\n",
       "      <th>880</th>\n",
       "      <td>881</td>\n",
       "      <td>5</td>\n",
       "      <td>0</td>\n",
       "      <td>0</td>\n",
       "      <td>0</td>\n",
       "      <td>0</td>\n",
       "      <td>0</td>\n",
       "      <td>0</td>\n",
       "      <td>4</td>\n",
       "    </tr>\n",
       "    <tr>\n",
       "      <th>881</th>\n",
       "      <td>882</td>\n",
       "      <td>5</td>\n",
       "      <td>0</td>\n",
       "      <td>0</td>\n",
       "      <td>0</td>\n",
       "      <td>0</td>\n",
       "      <td>0</td>\n",
       "      <td>0</td>\n",
       "      <td>4</td>\n",
       "    </tr>\n",
       "    <tr>\n",
       "      <th>882</th>\n",
       "      <td>883</td>\n",
       "      <td>5</td>\n",
       "      <td>0</td>\n",
       "      <td>0</td>\n",
       "      <td>0</td>\n",
       "      <td>0</td>\n",
       "      <td>0</td>\n",
       "      <td>0</td>\n",
       "      <td>4</td>\n",
       "    </tr>\n",
       "    <tr>\n",
       "      <th>883</th>\n",
       "      <td>884</td>\n",
       "      <td>5</td>\n",
       "      <td>0</td>\n",
       "      <td>0</td>\n",
       "      <td>0</td>\n",
       "      <td>1</td>\n",
       "      <td>0</td>\n",
       "      <td>0</td>\n",
       "      <td>4</td>\n",
       "    </tr>\n",
       "    <tr>\n",
       "      <th>884</th>\n",
       "      <td>885</td>\n",
       "      <td>5</td>\n",
       "      <td>0</td>\n",
       "      <td>0</td>\n",
       "      <td>0</td>\n",
       "      <td>0</td>\n",
       "      <td>0</td>\n",
       "      <td>0</td>\n",
       "      <td>3</td>\n",
       "    </tr>\n",
       "    <tr>\n",
       "      <th>...</th>\n",
       "      <td>...</td>\n",
       "      <td>...</td>\n",
       "      <td>...</td>\n",
       "      <td>...</td>\n",
       "      <td>...</td>\n",
       "      <td>...</td>\n",
       "      <td>...</td>\n",
       "      <td>...</td>\n",
       "      <td>...</td>\n",
       "    </tr>\n",
       "    <tr>\n",
       "      <th>18856</th>\n",
       "      <td>18857</td>\n",
       "      <td>5</td>\n",
       "      <td>0</td>\n",
       "      <td>0</td>\n",
       "      <td>0</td>\n",
       "      <td>0</td>\n",
       "      <td>0</td>\n",
       "      <td>0</td>\n",
       "      <td>4</td>\n",
       "    </tr>\n",
       "    <tr>\n",
       "      <th>18857</th>\n",
       "      <td>18858</td>\n",
       "      <td>5</td>\n",
       "      <td>0</td>\n",
       "      <td>0</td>\n",
       "      <td>0</td>\n",
       "      <td>0</td>\n",
       "      <td>0</td>\n",
       "      <td>0</td>\n",
       "      <td>4</td>\n",
       "    </tr>\n",
       "    <tr>\n",
       "      <th>18858</th>\n",
       "      <td>18859</td>\n",
       "      <td>5</td>\n",
       "      <td>0</td>\n",
       "      <td>0</td>\n",
       "      <td>1</td>\n",
       "      <td>0</td>\n",
       "      <td>0</td>\n",
       "      <td>0</td>\n",
       "      <td>5</td>\n",
       "    </tr>\n",
       "    <tr>\n",
       "      <th>18859</th>\n",
       "      <td>18860</td>\n",
       "      <td>5</td>\n",
       "      <td>0</td>\n",
       "      <td>0</td>\n",
       "      <td>0</td>\n",
       "      <td>0</td>\n",
       "      <td>0</td>\n",
       "      <td>0</td>\n",
       "      <td>4</td>\n",
       "    </tr>\n",
       "    <tr>\n",
       "      <th>18860</th>\n",
       "      <td>18861</td>\n",
       "      <td>5</td>\n",
       "      <td>0</td>\n",
       "      <td>0</td>\n",
       "      <td>0</td>\n",
       "      <td>0</td>\n",
       "      <td>0</td>\n",
       "      <td>0</td>\n",
       "      <td>5</td>\n",
       "    </tr>\n",
       "  </tbody>\n",
       "</table>\n",
       "<p>3454 rows × 9 columns</p>\n",
       "</div>"
      ],
      "text/plain": [
       "       Unnamed: 0  group_id  m_experimental_testing  m_making_design_choices  \\\n",
       "880           881         5                       0                        0   \n",
       "881           882         5                       0                        0   \n",
       "882           883         5                       0                        0   \n",
       "883           884         5                       0                        0   \n",
       "884           885         5                       0                        0   \n",
       "...           ...       ...                     ...                      ...   \n",
       "18856       18857         5                       0                        0   \n",
       "18857       18858         5                       0                        0   \n",
       "18858       18859         5                       0                        0   \n",
       "18859       18860         5                       0                        0   \n",
       "18860       18861         5                       0                        0   \n",
       "\n",
       "       m_asking_questions  j_customer_consultants_requests  \\\n",
       "880                     0                                0   \n",
       "881                     0                                0   \n",
       "882                     0                                0   \n",
       "883                     0                                1   \n",
       "884                     0                                0   \n",
       "...                   ...                              ...   \n",
       "18856                   0                                0   \n",
       "18857                   0                                0   \n",
       "18858                   1                                0   \n",
       "18859                   0                                0   \n",
       "18860                   0                                0   \n",
       "\n",
       "       j_performance_parameters_requirements  j_communication  OutcomeScore  \n",
       "880                                        0                0             4  \n",
       "881                                        0                0             4  \n",
       "882                                        0                0             4  \n",
       "883                                        0                0             4  \n",
       "884                                        0                0             3  \n",
       "...                                      ...              ...           ...  \n",
       "18856                                      0                0             4  \n",
       "18857                                      0                0             4  \n",
       "18858                                      0                0             5  \n",
       "18859                                      0                0             4  \n",
       "18860                                      0                0             5  \n",
       "\n",
       "[3454 rows x 9 columns]"
      ]
     },
     "execution_count": 20,
     "metadata": {},
     "output_type": "execute_result"
    }
   ],
   "source": [
    "svc=SVC(kernel='poly',coef0=10,C=10)\n",
    "X=all_stats.drop([\"group_id\"],axis=1)\n",
    "teams.get_group(5).drop(['wordCount'],axis=1)"
   ]
  },
  {
   "cell_type": "code",
   "execution_count": null,
   "metadata": {
    "cell_id": "130a9e3c1c184b14ac33c49d05830383",
    "deepnote_cell_type": "code"
   },
   "outputs": [],
   "source": []
  },
  {
   "cell_type": "markdown",
   "metadata": {
    "created_in_deepnote_cell": true,
    "deepnote_cell_type": "markdown"
   },
   "source": [
    "<a style='text-decoration:none;line-height:16px;display:flex;color:#5B5B62;padding:10px;justify-content:end;' href='https://deepnote.com?utm_source=created-in-deepnote-cell&projectId=11833631-a9cf-4189-bb5a-7b842801381e' target=\"_blank\">\n",
    "<img alt='Created in deepnote.com' style='display:inline;max-height:16px;margin:0px;margin-right:7.5px;' src='data:image/svg+xml;base64,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' > </img>\n",
    "Created in <span style='font-weight:600;margin-left:4px;'>Deepnote</span></a>"
   ]
  }
 ],
 "metadata": {
  "deepnote": {},
  "deepnote_execution_queue": [],
  "deepnote_full_width": true,
  "deepnote_notebook_id": "f58aac5787064a8ba70bb2fef5ffbfc1",
  "deepnote_persisted_session": {
   "createdAt": "2023-03-31T04:15:06.269Z"
  },
  "kernelspec": {
   "display_name": "Python 3 (ipykernel)",
   "language": "python",
   "name": "python3"
  },
  "language_info": {
   "codemirror_mode": {
    "name": "ipython",
    "version": 3
   },
   "file_extension": ".py",
   "mimetype": "text/x-python",
   "name": "python",
   "nbconvert_exporter": "python",
   "pygments_lexer": "ipython3",
   "version": "3.9.7"
  },
  "vscode": {
   "interpreter": {
    "hash": "8b29aa28013684dab52be2b1026aaae9e41b42a362ff7a6cb6ca6ce5174df666"
   }
  }
 },
 "nbformat": 4,
 "nbformat_minor": 1
}
